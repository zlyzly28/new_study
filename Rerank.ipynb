{
 "cells": [
  {
   "cell_type": "code",
   "execution_count": 1,
   "id": "6a6ad12f-dac1-4f44-9437-59c7969bda4d",
   "metadata": {
    "ExecutionIndicator": {
     "show": true
    },
    "execution": {
     "iopub.status.idle": "2024-06-25T05:55:04.070162Z",
     "shell.execute_reply": "2024-06-25T05:55:04.069610Z",
     "shell.execute_reply.started": "2024-06-25T05:54:47.645821Z"
    },
    "tags": []
   },
   "outputs": [
    {
     "name": "stderr",
     "output_type": "stream",
     "text": [
      "Downloading: 100%|██████████| 833/833 [00:00<00:00, 1.81kB/s]\n",
      "Downloading: 100%|██████████| 271/271 [00:00<00:00, 622B/s]\n",
      "Downloading: 100%|██████████| 116/116 [00:00<00:00, 230B/s]\n",
      "Downloading: 100%|██████████| 172/172 [00:00<00:00, 393B/s]\n",
      "Downloading: 100%|██████████| 51.0/51.0 [00:00<00:00, 121B/s]\n",
      "Downloading: 100%|██████████| 341/341 [00:00<00:00, 809B/s]\n",
      "Downloading: 100%|██████████| 7.01M/7.01M [00:00<00:00, 14.5MB/s]\n",
      "Downloading: 100%|██████████| 1.21G/1.21G [00:03<00:00, 375MB/s] \n",
      "Downloading: 100%|██████████| 26.8k/26.8k [00:01<00:00, 21.3kB/s]\n",
      "Downloading: 100%|██████████| 53.0/53.0 [00:00<00:00, 126B/s]\n",
      "Downloading: 100%|██████████| 695/695 [00:00<00:00, 1.61kB/s]\n",
      "Downloading: 100%|██████████| 429k/429k [00:00<00:00, 1.01MB/s]\n",
      "Downloading: 100%|██████████| 1.43k/1.43k [00:00<00:00, 2.88kB/s]\n",
      "Downloading: 100%|██████████| 107k/107k [00:00<00:00, 206kB/s]  \n"
     ]
    }
   ],
   "source": [
    "from modelscope import snapshot_download\n",
    "model_dir = snapshot_download(\"maple77/zpoint_large_embedding_zh\")"
   ]
  },
  {
   "cell_type": "code",
   "execution_count": 2,
   "id": "e62dac11-11c8-4da9-8f3f-059d081dd816",
   "metadata": {
    "execution": {
     "iopub.execute_input": "2024-06-25T05:55:04.071610Z",
     "iopub.status.busy": "2024-06-25T05:55:04.071180Z",
     "iopub.status.idle": "2024-06-25T05:55:15.506703Z",
     "shell.execute_reply": "2024-06-25T05:55:15.506131Z",
     "shell.execute_reply.started": "2024-06-25T05:55:04.071589Z"
    },
    "tags": []
   },
   "outputs": [
    {
     "name": "stderr",
     "output_type": "stream",
     "text": [
      "2024-06-25 13:55:04,378 - modelscope - WARNING - Model revision not specified, use revision: v0.0.1\n",
      "Downloading: 100%|██████████| 284/284 [00:00<00:00, 675B/s]\n",
      "Downloading: 100%|██████████| 799/799 [00:00<00:00, 1.72kB/s]\n",
      "Downloading: 100%|██████████| 52.0/52.0 [00:00<00:00, 124B/s]\n",
      "Downloading: 100%|██████████| 185/185 [00:00<00:00, 507B/s]\n",
      "Downloading: 100%|██████████| 1.04G/1.04G [00:03<00:00, 339MB/s] \n",
      "Downloading: 100%|██████████| 286/286 [00:00<00:00, 570B/s]\n",
      "Downloading: 100%|██████████| 174/174 [00:00<00:00, 370B/s]\n",
      "Downloading: 100%|██████████| 1.55k/1.55k [00:00<00:00, 4.00kB/s]\n",
      "Downloading: 100%|██████████| 1.14k/1.14k [00:00<00:00, 2.86kB/s]\n",
      "Downloading: 100%|██████████| 4.83M/4.83M [00:00<00:00, 10.8MB/s]\n",
      "Downloading: 100%|██████████| 279/279 [00:00<00:00, 704B/s]\n",
      "Downloading: 100%|██████████| 443/443 [00:00<00:00, 938B/s]\n",
      "Downloading: 100%|██████████| 167/167 [00:00<00:00, 419B/s]\n"
     ]
    }
   ],
   "source": [
    "model_dir = snapshot_download(\"Xorbits/bge-reranker-base\")"
   ]
  },
  {
   "cell_type": "code",
   "execution_count": 73,
   "id": "99f5c7c9-d746-4d29-a684-2c160abb0b89",
   "metadata": {
    "ExecutionIndicator": {
     "show": true
    },
    "execution": {
     "iopub.execute_input": "2024-06-25T07:42:52.833438Z",
     "iopub.status.busy": "2024-06-25T07:42:52.833119Z",
     "iopub.status.idle": "2024-06-25T07:42:53.410746Z",
     "shell.execute_reply": "2024-06-25T07:42:53.410037Z",
     "shell.execute_reply.started": "2024-06-25T07:42:52.833419Z"
    },
    "tags": []
   },
   "outputs": [
    {
     "name": "stdout",
     "output_type": "stream",
     "text": [
      "13620\n"
     ]
    }
   ],
   "source": [
    "from langchain.document_loaders import PyPDFLoader\n",
    "from langchain_community.document_loaders import TextLoader\n",
    "from langchain_community.vectorstores import FAISS\n",
    "from langchain_openai import OpenAIEmbeddings\n",
    "from langchain_text_splitters import RecursiveCharacterTextSplitter\n",
    "import tiktoken\n",
    "token_count = 0\n",
    "documents = PyPDFLoader(\"soybean_konw.pdf\").load()\n",
    "for i in range(len(documents)):\n",
    "    encoder = tiktoken.get_encoding(\"gpt2\") # 或其他适用的编码器\n",
    "    tokens = encoder.encode(documents[0].page_content)\n",
    "    token_count += len(tokens)\n",
    "print(token_count)\n",
    "text_splitter = RecursiveCharacterTextSplitter(chunk_size=500, chunk_overlap=200)\n",
    "texts = text_splitter.split_documents(documents[:])\n",
    "for idx, text in enumerate(texts):\n",
    "    text.metadata[\"id\"] = idx"
   ]
  },
  {
   "cell_type": "code",
   "execution_count": 74,
   "id": "ee779787-9657-440c-a58a-75267829940c",
   "metadata": {
    "ExecutionIndicator": {
     "show": true
    },
    "execution": {
     "iopub.execute_input": "2024-06-25T07:43:04.457128Z",
     "iopub.status.busy": "2024-06-25T07:43:04.456808Z",
     "iopub.status.idle": "2024-06-25T07:54:38.912691Z",
     "shell.execute_reply": "2024-06-25T07:54:38.911961Z",
     "shell.execute_reply.started": "2024-06-25T07:43:04.457110Z"
    },
    "tags": []
   },
   "outputs": [],
   "source": [
    "from langchain_chroma import Chroma\n",
    "from langchain.schema import Document\n",
    "from langchain_community.embeddings import HuggingFaceBgeEmbeddings\n",
    "\n",
    "top_k = 10\n",
    "\n",
    "model_name = '/mnt/workspace/.cache/modelscope/hub/maple77/zpoint_large_embedding_zh'\n",
    "model_kwargs = {'device': 'cpu'}\n",
    "encode_kwargs = {'normalize_embeddings': True}\n",
    "hf = HuggingFaceBgeEmbeddings(\n",
    "    model_name=model_name,\n",
    "    model_kwargs=model_kwargs,\n",
    "    encode_kwargs=encode_kwargs\n",
    ")\n",
    "vectorstore = Chroma.from_documents(documents=texts[:], embedding=hf, persist_directory=\"soybean_konw\")\n",
    "retriever = vectorstore.as_retriever(\n",
    "    search_type=\"similarity\",\n",
    "    search_kwargs={\"k\": top_k}\n",
    ")"
   ]
  },
  {
   "cell_type": "code",
   "execution_count": 8,
   "id": "e13e1f8e-18fa-425c-8a62-fc4dd7299436",
   "metadata": {
    "ExecutionIndicator": {
     "show": false
    },
    "execution": {
     "iopub.execute_input": "2024-06-25T06:04:47.891993Z",
     "iopub.status.busy": "2024-06-25T06:04:47.891627Z",
     "iopub.status.idle": "2024-06-25T06:04:47.898136Z",
     "shell.execute_reply": "2024-06-25T06:04:47.897603Z",
     "shell.execute_reply.started": "2024-06-25T06:04:47.891973Z"
    },
    "tags": []
   },
   "outputs": [],
   "source": [
    "vectorstore2 = Chroma(persist_directory=\"soybean_konw\", embedding_function=hf)\n",
    "vectorstore2._collection.get(ids=['0438ad1e-e6a7-44b2-af92-b43b8bcbb06c'])"
   ]
  },
  {
   "cell_type": "code",
   "execution_count": 38,
   "id": "5cab24e4-52c2-47d1-a4ca-31684785234a",
   "metadata": {
    "ExecutionIndicator": {
     "show": false
    },
    "execution": {
     "iopub.execute_input": "2024-06-25T06:42:09.690109Z",
     "iopub.status.busy": "2024-06-25T06:42:09.689772Z",
     "iopub.status.idle": "2024-06-25T06:42:19.297503Z",
     "shell.execute_reply": "2024-06-25T06:42:19.296823Z",
     "shell.execute_reply.started": "2024-06-25T06:42:09.690090Z"
    },
    "tags": []
   },
   "outputs": [],
   "source": [
    "from sentence_transformers import SentenceTransformer\n",
    "emmbeding_model = SentenceTransformer('/mnt/workspace/.cache/modelscope/hub/maple77/zpoint_large_embedding_zh')\n",
    "z = emmbeding_model.encode(texts[22].page_content, normalize_embeddings=True)\n",
    "vectorstore2._collection.add('new1', z.tolist(), texts[22].metadata, texts[22].page_content)"
   ]
  },
  {
   "cell_type": "code",
   "execution_count": null,
   "id": "469ad187-9f4a-4ea2-b557-7acaad032a65",
   "metadata": {
    "tags": []
   },
   "outputs": [],
   "source": [
    "retriever.batch(['plant'])"
   ]
  },
  {
   "cell_type": "code",
   "execution_count": 70,
   "id": "45cdedd2-7e02-492d-9f90-8d3153d8b0b3",
   "metadata": {
    "execution": {
     "iopub.execute_input": "2024-06-25T07:23:22.310713Z",
     "iopub.status.busy": "2024-06-25T07:23:22.310442Z",
     "iopub.status.idle": "2024-06-25T07:23:22.313106Z",
     "shell.execute_reply": "2024-06-25T07:23:22.312693Z",
     "shell.execute_reply.started": "2024-06-25T07:23:22.310696Z"
    }
   },
   "outputs": [],
   "source": [
    "reranker_args = {\n",
    "    'model': '/mnt/workspace/.cache/modelscope/hub/Xorbits/bge-reranker-base',\n",
    "    'top_n': 5,\n",
    "    'device': 'cpu',\n",
    "}"
   ]
  },
  {
   "cell_type": "code",
   "execution_count": 71,
   "id": "fd061ed5-6a23-4034-86d6-427dd8722baf",
   "metadata": {
    "execution": {
     "iopub.execute_input": "2024-06-25T07:23:22.313970Z",
     "iopub.status.busy": "2024-06-25T07:23:22.313640Z",
     "iopub.status.idle": "2024-06-25T07:23:29.155377Z",
     "shell.execute_reply": "2024-06-25T07:23:29.154832Z",
     "shell.execute_reply.started": "2024-06-25T07:23:22.313955Z"
    },
    "tags": []
   },
   "outputs": [],
   "source": [
    "from transformers import AutoModelForSequenceClassification, AutoTokenizer\n",
    "tokenizer = AutoTokenizer.from_pretrained('/mnt/workspace/.cache/modelscope/hub/Xorbits/bge-reranker-base')\n",
    "rerank_model = AutoModelForSequenceClassification.from_pretrained('/mnt/workspace/.cache/modelscope/hub/Xorbits/bge-reranker-base')"
   ]
  },
  {
   "cell_type": "code",
   "execution_count": 72,
   "id": "b91a0b60-1e61-45b9-b2bd-cefd5de127a7",
   "metadata": {
    "ExecutionIndicator": {
     "show": true
    },
    "execution": {
     "iopub.execute_input": "2024-06-25T07:23:29.156717Z",
     "iopub.status.busy": "2024-06-25T07:23:29.156428Z",
     "iopub.status.idle": "2024-06-25T07:23:50.500308Z",
     "shell.execute_reply": "2024-06-25T07:23:50.499569Z",
     "shell.execute_reply.started": "2024-06-25T07:23:29.156694Z"
    },
    "tags": []
   },
   "outputs": [
    {
     "name": "stdout",
     "output_type": "stream",
     "text": [
      "tensor([-8.1544,  6.1821])\n"
     ]
    }
   ],
   "source": [
    "import torch\n",
    "rerank_model.eval()\n",
    "\n",
    "pairs = [['what is panda?', 'hi'], ['what is panda?', 'The giant panda (Ailuropoda melanoleuca), sometimes called a panda bear or simply panda, is a bear species endemic to China.']]\n",
    "with torch.no_grad():\n",
    "    inputs = tokenizer(pairs, padding=True, truncation=True, return_tensors='pt', max_length=512)\n",
    "    scores = rerank_model(**inputs, return_dict=True).logits.view(-1, ).float()\n",
    "    print(scores)"
   ]
  },
  {
   "cell_type": "code",
   "execution_count": null,
   "id": "452851de-26b5-476d-88b0-09a727af2372",
   "metadata": {},
   "outputs": [],
   "source": [
    "\n",
    "for query_idx in range(len(questions)):\n",
    "\t\t# 首先进行BM25检索\n",
    "    doc_scores = bm25.get_scores(jieba.lcut(questions[query_idx][\"question\"]))\n",
    "    max_score_page_idxs = doc_scores.argsort()[-3:]\n",
    "\t\t\n",
    "\t\t# top3进行重排序\n",
    "    pairs = []\n",
    "    for idx in max_score_page_idxs:\n",
    "        pairs.append([questions[query_idx][\"question\"], pdf_content[idx]['content']])\n",
    "\n",
    "    inputs = tokenizer(pairs, padding=True, truncation=True, return_tensors='pt', max_length=512)\n",
    "    with torch.no_grad():\n",
    "        inputs = {key: inputs[key].cuda() for key in inputs.keys()}\n",
    "        scores = rerank_model(**inputs, return_dict=True).logits.view(-1, ).float()\n",
    "\n",
    "    max_score_page_idx = max_score_page_idxs[scores.cpu().numpy().argmax()]\n",
    "    questions[query_idx]['reference'] = 'page_' + str(max_score_page_idx + 1)\n",
    "\n"
   ]
  }
 ],
 "metadata": {
  "kernelspec": {
   "display_name": "Python 3 (ipykernel)",
   "language": "python",
   "name": "python3"
  },
  "language_info": {
   "codemirror_mode": {
    "name": "ipython",
    "version": 3
   },
   "file_extension": ".py",
   "mimetype": "text/x-python",
   "name": "python",
   "nbconvert_exporter": "python",
   "pygments_lexer": "ipython3",
   "version": "3.10.14"
  }
 },
 "nbformat": 4,
 "nbformat_minor": 5
}
