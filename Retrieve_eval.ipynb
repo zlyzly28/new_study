{
 "cells": [
  {
   "cell_type": "code",
   "execution_count": 1,
   "id": "7fb52ca2-ddde-43b3-b61a-fc2b7a9ca1e8",
   "metadata": {
    "execution": {
     "iopub.execute_input": "2024-06-24T10:52:57.874257Z",
     "iopub.status.busy": "2024-06-24T10:52:57.873682Z",
     "iopub.status.idle": "2024-06-24T10:53:14.488939Z",
     "shell.execute_reply": "2024-06-24T10:53:14.488138Z",
     "shell.execute_reply.started": "2024-06-24T10:52:57.874209Z"
    },
    "tags": []
   },
   "outputs": [
    {
     "name": "stderr",
     "output_type": "stream",
     "text": [
      "2024-06-24 18:52:59,429 - modelscope - INFO - PyTorch version 2.3.0+cpu Found.\n",
      "2024-06-24 18:52:59,431 - modelscope - INFO - Loading ast index from /mnt/workspace/.cache/modelscope/ast_indexer\n",
      "2024-06-24 18:52:59,432 - modelscope - INFO - No valid ast index found from /mnt/workspace/.cache/modelscope/ast_indexer, generating ast index from prebuilt!\n",
      "2024-06-24 18:52:59,485 - modelscope - INFO - Loading done! Current index file version is 1.15.0, with md5 eccbdad6389abeac8790b84f257211fb and a total number of 980 components indexed\n",
      "Downloading: 100%|██████████| 833/833 [00:00<00:00, 2.01kB/s]\n",
      "Downloading: 100%|██████████| 271/271 [00:00<00:00, 641B/s]\n",
      "Downloading: 100%|██████████| 116/116 [00:00<00:00, 276B/s]\n",
      "Downloading: 100%|██████████| 172/172 [00:00<00:00, 327B/s]\n",
      "Downloading: 100%|██████████| 51.0/51.0 [00:00<00:00, 123B/s]\n",
      "Downloading: 100%|██████████| 341/341 [00:00<00:00, 877B/s]\n",
      "Downloading: 100%|██████████| 7.01M/7.01M [00:00<00:00, 14.1MB/s]\n",
      "Downloading: 100%|██████████| 1.21G/1.21G [00:04<00:00, 285MB/s] \n",
      "Downloading: 100%|██████████| 26.8k/26.8k [00:00<00:00, 65.5kB/s]\n",
      "Downloading: 100%|██████████| 53.0/53.0 [00:00<00:00, 113B/s]\n",
      "Downloading: 100%|██████████| 695/695 [00:00<00:00, 1.79kB/s]\n",
      "Downloading: 100%|██████████| 429k/429k [00:00<00:00, 815kB/s]\n",
      "Downloading: 100%|██████████| 1.43k/1.43k [00:00<00:00, 3.37kB/s]\n",
      "Downloading: 100%|██████████| 107k/107k [00:00<00:00, 247kB/s]  \n"
     ]
    }
   ],
   "source": [
    "from modelscope import snapshot_download\n",
    "model_dir = snapshot_download(\"maple77/zpoint_large_embedding_zh\")"
   ]
  },
  {
   "cell_type": "code",
   "execution_count": 1,
   "id": "19308841-46e5-4902-bc4e-027edb364760",
   "metadata": {
    "ExecutionIndicator": {
     "show": true
    },
    "execution": {
     "iopub.execute_input": "2024-06-25T07:40:24.395632Z",
     "iopub.status.busy": "2024-06-25T07:40:24.395260Z",
     "iopub.status.idle": "2024-06-25T07:40:25.593744Z",
     "shell.execute_reply": "2024-06-25T07:40:25.593033Z",
     "shell.execute_reply.started": "2024-06-25T07:40:24.395597Z"
    },
    "tags": []
   },
   "outputs": [
    {
     "ename": "ValueError",
     "evalue": "File path ../soybean_konw.pdf is not a valid file or url",
     "output_type": "error",
     "traceback": [
      "\u001b[0;31m---------------------------------------------------------------------------\u001b[0m",
      "\u001b[0;31mValueError\u001b[0m                                Traceback (most recent call last)",
      "Cell \u001b[0;32mIn[1], line 7\u001b[0m\n\u001b[1;32m      4\u001b[0m \u001b[38;5;28;01mfrom\u001b[39;00m \u001b[38;5;21;01mlangchain_openai\u001b[39;00m \u001b[38;5;28;01mimport\u001b[39;00m OpenAIEmbeddings\n\u001b[1;32m      5\u001b[0m \u001b[38;5;28;01mfrom\u001b[39;00m \u001b[38;5;21;01mlangchain_text_splitters\u001b[39;00m \u001b[38;5;28;01mimport\u001b[39;00m RecursiveCharacterTextSplitter\n\u001b[0;32m----> 7\u001b[0m documents \u001b[38;5;241m=\u001b[39m \u001b[43mPyPDFLoader\u001b[49m\u001b[43m(\u001b[49m\u001b[38;5;124;43m\"\u001b[39;49m\u001b[38;5;124;43m../soybean_konw.pdf\u001b[39;49m\u001b[38;5;124;43m\"\u001b[39;49m\u001b[43m)\u001b[49m\u001b[38;5;241m.\u001b[39mload()\n\u001b[1;32m      8\u001b[0m text_splitter \u001b[38;5;241m=\u001b[39m RecursiveCharacterTextSplitter(chunk_size\u001b[38;5;241m=\u001b[39m\u001b[38;5;241m500\u001b[39m, chunk_overlap\u001b[38;5;241m=\u001b[39m\u001b[38;5;241m200\u001b[39m)\n\u001b[1;32m      9\u001b[0m texts \u001b[38;5;241m=\u001b[39m text_splitter\u001b[38;5;241m.\u001b[39msplit_documents(documents[:])\n",
      "File \u001b[0;32m/usr/local/lib/python3.10/site-packages/langchain_community/document_loaders/pdf.py:182\u001b[0m, in \u001b[0;36mPyPDFLoader.__init__\u001b[0;34m(self, file_path, password, headers, extract_images)\u001b[0m\n\u001b[1;32m    178\u001b[0m \u001b[38;5;28;01mexcept\u001b[39;00m \u001b[38;5;167;01mImportError\u001b[39;00m:\n\u001b[1;32m    179\u001b[0m     \u001b[38;5;28;01mraise\u001b[39;00m \u001b[38;5;167;01mImportError\u001b[39;00m(\n\u001b[1;32m    180\u001b[0m         \u001b[38;5;124m\"\u001b[39m\u001b[38;5;124mpypdf package not found, please install it with \u001b[39m\u001b[38;5;124m\"\u001b[39m \u001b[38;5;124m\"\u001b[39m\u001b[38;5;124m`pip install pypdf`\u001b[39m\u001b[38;5;124m\"\u001b[39m\n\u001b[1;32m    181\u001b[0m     )\n\u001b[0;32m--> 182\u001b[0m \u001b[38;5;28;43msuper\u001b[39;49m\u001b[43m(\u001b[49m\u001b[43m)\u001b[49m\u001b[38;5;241;43m.\u001b[39;49m\u001b[38;5;21;43m__init__\u001b[39;49m\u001b[43m(\u001b[49m\u001b[43mfile_path\u001b[49m\u001b[43m,\u001b[49m\u001b[43m \u001b[49m\u001b[43mheaders\u001b[49m\u001b[38;5;241;43m=\u001b[39;49m\u001b[43mheaders\u001b[49m\u001b[43m)\u001b[49m\n\u001b[1;32m    183\u001b[0m \u001b[38;5;28mself\u001b[39m\u001b[38;5;241m.\u001b[39mparser \u001b[38;5;241m=\u001b[39m PyPDFParser(password\u001b[38;5;241m=\u001b[39mpassword, extract_images\u001b[38;5;241m=\u001b[39mextract_images)\n",
      "File \u001b[0;32m/usr/local/lib/python3.10/site-packages/langchain_community/document_loaders/pdf.py:116\u001b[0m, in \u001b[0;36mBasePDFLoader.__init__\u001b[0;34m(self, file_path, headers)\u001b[0m\n\u001b[1;32m    114\u001b[0m         \u001b[38;5;28mself\u001b[39m\u001b[38;5;241m.\u001b[39mfile_path \u001b[38;5;241m=\u001b[39m \u001b[38;5;28mstr\u001b[39m(temp_pdf)\n\u001b[1;32m    115\u001b[0m \u001b[38;5;28;01melif\u001b[39;00m \u001b[38;5;129;01mnot\u001b[39;00m os\u001b[38;5;241m.\u001b[39mpath\u001b[38;5;241m.\u001b[39misfile(\u001b[38;5;28mself\u001b[39m\u001b[38;5;241m.\u001b[39mfile_path):\n\u001b[0;32m--> 116\u001b[0m     \u001b[38;5;28;01mraise\u001b[39;00m \u001b[38;5;167;01mValueError\u001b[39;00m(\u001b[38;5;124m\"\u001b[39m\u001b[38;5;124mFile path \u001b[39m\u001b[38;5;132;01m%s\u001b[39;00m\u001b[38;5;124m is not a valid file or url\u001b[39m\u001b[38;5;124m\"\u001b[39m \u001b[38;5;241m%\u001b[39m \u001b[38;5;28mself\u001b[39m\u001b[38;5;241m.\u001b[39mfile_path)\n",
      "\u001b[0;31mValueError\u001b[0m: File path ../soybean_konw.pdf is not a valid file or url"
     ]
    }
   ],
   "source": [
    "from langchain.document_loaders import PyPDFLoader\n",
    "from langchain_community.document_loaders import TextLoader\n",
    "from langchain_community.vectorstores import FAISS\n",
    "from langchain_openai import OpenAIEmbeddings\n",
    "from langchain_text_splitters import RecursiveCharacterTextSplitter\n",
    "\n",
    "documents = PyPDFLoader(\"../soybean_konw.pdf\").load()\n",
    "text_splitter = RecursiveCharacterTextSplitter(chunk_size=500, chunk_overlap=200)\n",
    "texts = text_splitter.split_documents(documents[:])\n",
    "for idx, text in enumerate(texts):\n",
    "    text.metadata[\"id\"] = idx"
   ]
  },
  {
   "cell_type": "code",
   "execution_count": 2,
   "id": "2f6132e0-3156-4018-9767-6e8afb068e87",
   "metadata": {
    "ExecutionIndicator": {
     "show": true
    },
    "execution": {
     "iopub.execute_input": "2024-06-22T05:50:51.908363Z",
     "iopub.status.busy": "2024-06-22T05:50:51.907870Z",
     "iopub.status.idle": "2024-06-22T05:57:04.372086Z",
     "shell.execute_reply": "2024-06-22T05:57:04.371353Z",
     "shell.execute_reply.started": "2024-06-22T05:50:51.908337Z"
    },
    "tags": []
   },
   "outputs": [
    {
     "name": "stderr",
     "output_type": "stream",
     "text": [
      "/usr/local/lib/python3.10/site-packages/sentence_transformers/cross_encoder/CrossEncoder.py:11: TqdmExperimentalWarning: Using `tqdm.autonotebook.tqdm` in notebook mode. Use `tqdm.tqdm` instead to force console mode (e.g. in jupyter console)\n",
      "  from tqdm.autonotebook import tqdm, trange\n"
     ]
    }
   ],
   "source": [
    "from langchain_chroma import Chroma\n",
    "from langchain.schema import Document\n",
    "from langchain_community.embeddings import HuggingFaceBgeEmbeddings\n",
    "\n",
    "top_k = 8\n",
    "\n",
    "model_name = '/mnt/workspace/.cache/modelscope/hub/maple77/zpoint_large_embedding_zh'\n",
    "model_kwargs = {'device': 'cpu'}\n",
    "encode_kwargs = {'normalize_embeddings': True}\n",
    "hf = HuggingFaceBgeEmbeddings(\n",
    "    model_name=model_name,\n",
    "    model_kwargs=model_kwargs,\n",
    "    encode_kwargs=encode_kwargs\n",
    ")\n",
    "vectorstore = Chroma.from_documents(documents=texts[:], embedding=hf)\n",
    "retriever = vectorstore.as_retriever(\n",
    "    search_type=\"similarity\",\n",
    "    search_kwargs={\"k\": top_k}\n",
    ")"
   ]
  },
  {
   "cell_type": "code",
   "execution_count": 10,
   "id": "6f285b92-0044-4836-b026-eb574b8749ac",
   "metadata": {
    "ExecutionIndicator": {
     "show": true
    },
    "execution": {
     "iopub.execute_input": "2024-06-22T06:03:11.075623Z",
     "iopub.status.busy": "2024-06-22T06:03:11.075103Z",
     "iopub.status.idle": "2024-06-22T06:03:11.094917Z",
     "shell.execute_reply": "2024-06-22T06:03:11.094304Z",
     "shell.execute_reply.started": "2024-06-22T06:03:11.075589Z"
    },
    "tags": []
   },
   "outputs": [
    {
     "name": "stdout",
     "output_type": "stream",
     "text": [
      "dict_keys(['id', 'question', 'context'])\n"
     ]
    }
   ],
   "source": [
    "import pandas as pd\n",
    "\n",
    "df = pd.read_excel('../learn_rag/soybean_question1.xlsx', sheet_name='Sheet1')\n",
    "\n",
    "# 打印DataFrame的内容\n",
    "column_lists = {col: df[col].tolist() for col in df.columns}\n",
    "print(column_lists.keys())"
   ]
  },
  {
   "cell_type": "code",
   "execution_count": 18,
   "id": "e6def619-59bf-46eb-baf6-e625b0dfa4d3",
   "metadata": {
    "ExecutionIndicator": {
     "show": true
    },
    "execution": {
     "iopub.execute_input": "2024-06-22T06:17:43.447479Z",
     "iopub.status.busy": "2024-06-22T06:17:43.447031Z",
     "iopub.status.idle": "2024-06-22T06:31:22.646779Z",
     "shell.execute_reply": "2024-06-22T06:31:22.645297Z",
     "shell.execute_reply.started": "2024-06-22T06:17:43.447450Z"
    },
    "tags": []
   },
   "outputs": [],
   "source": [
    "retriever_result = retriever.batch(column_lists['question'])"
   ]
  },
  {
   "cell_type": "code",
   "execution_count": null,
   "id": "1fe88625-7b2d-46a2-9c51-042085cc3c5a",
   "metadata": {
    "tags": []
   },
   "outputs": [],
   "source": []
  },
  {
   "cell_type": "code",
   "execution_count": 124,
   "id": "d608e43a-0598-453a-a803-688e5c71ad83",
   "metadata": {
    "ExecutionIndicator": {
     "show": true
    },
    "execution": {
     "iopub.execute_input": "2024-06-22T09:02:24.927982Z",
     "iopub.status.busy": "2024-06-22T09:02:24.927503Z",
     "iopub.status.idle": "2024-06-22T09:02:24.953832Z",
     "shell.execute_reply": "2024-06-22T09:02:24.952953Z",
     "shell.execute_reply.started": "2024-06-22T09:02:24.927950Z"
    },
    "tags": []
   },
   "outputs": [
    {
     "name": "stdout",
     "output_type": "stream",
     "text": [
      "top_ 1\n",
      "top_ 2\n",
      "top_ 3\n",
      "top_ 4\n",
      "top_ 5\n",
      "top_ 6\n",
      "top_ 7\n",
      "top_ 8\n"
     ]
    }
   ],
   "source": [
    "from retiever_eval_list import get_ht_score, get_mmr_score, get_retriever_res_list\n",
    "retiever_evaldict = {}\n",
    "for i in range(8):\n",
    "    print('top_', i+1)\n",
    "    res_retriever_list = get_retriever_res_list(retriever_result, i+1)\n",
    "    ht_score = get_ht_score(column_lists['id'], res_retriever_list)\n",
    "    mmr_score = get_mmr_score(column_lists['id'], res_retriever_list)\n",
    "    # print('ht:', round(ht_score, 3))\n",
    "    # print('mmr_score:', round(mmr_score, 3))\n",
    "    soft__ht_score = get_soft_ht_score(column_lists['id'], res_retriever_list)\n",
    "    soft__mmr_score = get_soft_mmr_score(column_lists['id'], res_retriever_list)\n",
    "    # print('soft__ht_score:', round(soft__ht_score, 3))\n",
    "    # print('soft__mmr_score:', round(soft__mmr_score, 3))\n",
    "    res_retriever_list = get_retriever_res_list(retriever_result, i+1)\n",
    "    ndcg_score = get_ndcg_score(column_lists['id'], res_retriever_list)\n",
    "    # print('ndcg:', round(ndcg_score, 3))\n",
    "    retiever_evaldict['top_' + str(i+1)] = {\n",
    "        \"ht_score\": round(ht_score, 3),\n",
    "        'mmr_score': round(mmr_score, 3),\n",
    "        'soft_ht_score': round(soft__ht_score, 3),\n",
    "        'soft_mmr_score': round(soft__mmr_score, 3),\n",
    "        'ndcg': round(ndcg_score, 3),\n",
    "    }"
   ]
  },
  {
   "cell_type": "code",
   "execution_count": null,
   "id": "842c36bf-9c15-45fb-a9d1-b0e00e88b3cc",
   "metadata": {
    "tags": []
   },
   "outputs": [],
   "source": [
    "retiever_evaldict"
   ]
  },
  {
   "cell_type": "code",
   "execution_count": null,
   "id": "eb120f77-ea52-47e7-9f9e-fe96fff7e64b",
   "metadata": {
    "ExecutionIndicator": {
     "show": true
    },
    "tags": []
   },
   "outputs": [],
   "source": [
    "def soft_ht_score(lab_index, retriever_res, top_k = 8, so = 3)->float:\n",
    "    list1 = range(lab_index-so, lab_index+so)\n",
    "    if any(element in retriever_res[:top_k] for element in list1):\n",
    "        return 1.0\n",
    "    else:\n",
    "        return 0.0\n",
    "\n",
    "def soft_mmr_score(lab_index, retriever_res, top_k = 8, so = 3)->float:\n",
    "    list1 = range(lab_index-so, lab_index+so)\n",
    "    ank = 0\n",
    "    for element in list1:\n",
    "        if element in retriever_res[:top_k]:\n",
    "            ank += 1.0 / (retriever_res.index(element) + 1)\n",
    "    return ank\n",
    "\n",
    "def get_soft_ht_score(lab_index_list, retriever_list):\n",
    "    ans = 0\n",
    "    for index, num in enumerate(lab_index_list):\n",
    "        ans += soft_ht_score(num, retriever_list[index])\n",
    "    return ans / len(lab_index_list)\n",
    "\n",
    "def get_soft_mmr_score(lab_index_list, retriever_list):\n",
    "    ans = 0\n",
    "    for index, num in enumerate(lab_index_list):\n",
    "        ans += soft_mmr_score(num, retriever_list[index])\n",
    "    return ans / len(lab_index_list)\n",
    "for i in range(8):\n",
    "    print('soft_top_', i+1)\n",
    "    res_retriever_list = get_retriever_res_list(retriever_result, i+1)\n",
    "    ht_score = get_soft_ht_score(column_lists['id'], res_retriever_list)\n",
    "    mmr_score = get_soft_mmr_score(column_lists['id'], res_retriever_list)\n",
    "    print('ht:', round(ht_score, 3))\n",
    "    print('mmr_score:', round(mmr_score, 3))"
   ]
  },
  {
   "cell_type": "code",
   "execution_count": null,
   "id": "47020f7a-67c2-4ca0-bc02-087bfcdd8923",
   "metadata": {
    "ExecutionIndicator": {
     "show": true
    },
    "tags": []
   },
   "outputs": [],
   "source": [
    "# id 5\n",
    "#   2 3 4 5 6 7 8\n",
    "#   0 1 2 3 2 1 0\n",
    "# res [14, 2 , 3, 5, 16, 9, 8 , 9]\n",
    "import math\n",
    "def calucate_dcg(res_score):\n",
    "    dcg = 0\n",
    "    for i in range(len(res_score)):\n",
    "        # print(math.log2(i+2))\n",
    "        dcg += (res_score[i] / math.log2(i+2))\n",
    "    return dcg\n",
    "\n",
    "def calucate_idcg(res_score):\n",
    "    idcg = 0\n",
    "    sorted_res_score = sorted(res_score, reverse=True)\n",
    "    for i in range(len(sorted_res_score)):\n",
    "        # print(math.log2(i+2))\n",
    "        idcg += (sorted_res_score[i] / math.log2(i+2))\n",
    "    return idcg\n",
    "\n",
    "\n",
    "def ndcg_score_cal(lab_index, res, top_k =8, so = 3):\n",
    "    list1 = range(lab_index-so, lab_index+so+1)\n",
    "    n = so + 1\n",
    "    lab_score = list(range(n)) + list(range(n-2, -1, -1)) if n > 1 else []\n",
    "    res_score = [0] * len(res)\n",
    "    for index, ret_res in enumerate(res):\n",
    "        if ret_res in list1:\n",
    "            res_score[index] = lab_score[list1.index(ret_res)]\n",
    "    dcg = calucate_dcg(res_score)\n",
    "    idcg = calucate_idcg(res_score)\n",
    "    if idcg == 0.0:\n",
    "        return 0.0\n",
    "    else:\n",
    "        return dcg / idcg\n",
    "    \n",
    "    print(res_score)\n",
    "    \n",
    "def get_ndcg_score(lab_index_list, retriever_list):\n",
    "    ans = 0\n",
    "    for index, num in enumerate(lab_index_list):\n",
    "        # print(num, retriever_list[index])\n",
    "        ans += ndcg_score_cal(num, retriever_list[index])\n",
    "    return ans / len(lab_index_list)\n",
    "\n",
    "# res_retriever_list = get_retriever_res_list(retriever_result, 2)\n",
    "# ndcg_score = get_ndcg_score(column_lists['id'], res_retriever_list)\n",
    "# print('ndcg:', round(ndcg_score, 3))\n",
    "for i in range(8):\n",
    "    print('soft_top_', i+1)\n",
    "    res_retriever_list = get_retriever_res_list(retriever_result, i+1)\n",
    "    ndcg_score = get_ndcg_score(column_lists['id'], res_retriever_list)\n",
    "    print('ndcg:', round(ndcg_score, 3))"
   ]
  },
  {
   "cell_type": "code",
   "execution_count": 117,
   "id": "1117ff42-39e8-481d-af78-2b20c5545ec4",
   "metadata": {
    "ExecutionIndicator": {
     "show": true
    },
    "execution": {
     "iopub.execute_input": "2024-06-22T08:51:23.630970Z",
     "iopub.status.busy": "2024-06-22T08:51:23.630415Z",
     "iopub.status.idle": "2024-06-22T08:51:23.635367Z",
     "shell.execute_reply": "2024-06-22T08:51:23.634430Z",
     "shell.execute_reply.started": "2024-06-22T08:51:23.630921Z"
    },
    "tags": []
   },
   "outputs": [],
   "source": [
    "column_lists['retriever_result'] = res_retriever_list"
   ]
  },
  {
   "cell_type": "code",
   "execution_count": 120,
   "id": "cd9b99c4-192e-4c9f-95bb-626a39cf9903",
   "metadata": {
    "ExecutionIndicator": {
     "show": true
    },
    "execution": {
     "iopub.execute_input": "2024-06-22T08:54:05.453915Z",
     "iopub.status.busy": "2024-06-22T08:54:05.453432Z",
     "iopub.status.idle": "2024-06-22T08:54:05.462085Z",
     "shell.execute_reply": "2024-06-22T08:54:05.461256Z",
     "shell.execute_reply.started": "2024-06-22T08:54:05.453884Z"
    },
    "tags": []
   },
   "outputs": [],
   "source": [
    "filename = \"retriever_result1.json\"\n",
    "import json\n",
    "with open(filename, 'w') as f:\n",
    "    json.dump(column_lists, f, ensure_ascii=False, indent=4)"
   ]
  },
  {
   "cell_type": "code",
   "execution_count": 126,
   "id": "7971c491-dbe2-4045-bdc4-d64f3940844c",
   "metadata": {
    "execution": {
     "iopub.execute_input": "2024-06-22T09:02:59.755245Z",
     "iopub.status.busy": "2024-06-22T09:02:59.754718Z",
     "iopub.status.idle": "2024-06-22T09:02:59.760109Z",
     "shell.execute_reply": "2024-06-22T09:02:59.759292Z",
     "shell.execute_reply.started": "2024-06-22T09:02:59.755205Z"
    },
    "tags": []
   },
   "outputs": [],
   "source": [
    "filename = \"retiever_eval1.json\"\n",
    "import json\n",
    "with open(filename, 'w') as f:\n",
    "    json.dump(retiever_evaldict, f, ensure_ascii=False, indent=4)"
   ]
  }
 ],
 "metadata": {
  "kernelspec": {
   "display_name": "Python 3 (ipykernel)",
   "language": "python",
   "name": "python3"
  },
  "language_info": {
   "codemirror_mode": {
    "name": "ipython",
    "version": 3
   },
   "file_extension": ".py",
   "mimetype": "text/x-python",
   "name": "python",
   "nbconvert_exporter": "python",
   "pygments_lexer": "ipython3",
   "version": "3.10.14"
  }
 },
 "nbformat": 4,
 "nbformat_minor": 5
}
