{
 "cells": [
  {
   "cell_type": "code",
   "execution_count": 2,
   "id": "6a6ad12f-dac1-4f44-9437-59c7969bda4d",
   "metadata": {
    "execution": {
     "iopub.execute_input": "2024-06-24T11:02:03.977589Z",
     "iopub.status.busy": "2024-06-24T11:02:03.977105Z",
     "iopub.status.idle": "2024-06-24T11:02:07.395099Z",
     "shell.execute_reply": "2024-06-24T11:02:07.394405Z",
     "shell.execute_reply.started": "2024-06-24T11:02:03.977524Z"
    },
    "tags": []
   },
   "outputs": [
    {
     "name": "stderr",
     "output_type": "stream",
     "text": [
      "2024-06-24 19:02:05,834 - modelscope - INFO - PyTorch version 2.3.0+cpu Found.\n",
      "2024-06-24 19:02:05,837 - modelscope - INFO - Loading ast index from /mnt/workspace/.cache/modelscope/ast_indexer\n",
      "2024-06-24 19:02:05,874 - modelscope - INFO - Loading done! Current index file version is 1.15.0, with md5 eccbdad6389abeac8790b84f257211fb and a total number of 980 components indexed\n"
     ]
    }
   ],
   "source": [
    "from modelscope import snapshot_download\n",
    "# model_dir = snapshot_download(\"maple77/zpoint_large_embedding_zh\")"
   ]
  },
  {
   "cell_type": "code",
   "execution_count": 3,
   "id": "e62dac11-11c8-4da9-8f3f-059d081dd816",
   "metadata": {
    "execution": {
     "iopub.execute_input": "2024-06-24T11:02:09.420904Z",
     "iopub.status.busy": "2024-06-24T11:02:09.420402Z",
     "iopub.status.idle": "2024-06-24T11:02:22.927167Z",
     "shell.execute_reply": "2024-06-24T11:02:22.926300Z",
     "shell.execute_reply.started": "2024-06-24T11:02:09.420880Z"
    },
    "tags": []
   },
   "outputs": [
    {
     "name": "stderr",
     "output_type": "stream",
     "text": [
      "2024-06-24 19:02:09,821 - modelscope - WARNING - Model revision not specified, use revision: v0.0.1\n",
      "Downloading: 100%|██████████| 284/284 [00:00<00:00, 727B/s]\n",
      "Downloading: 100%|██████████| 799/799 [00:00<00:00, 1.76kB/s]\n",
      "Downloading: 100%|██████████| 52.0/52.0 [00:00<00:00, 121B/s]\n",
      "Downloading: 100%|██████████| 185/185 [00:00<00:00, 453B/s]\n",
      "Downloading: 100%|██████████| 1.04G/1.04G [00:04<00:00, 234MB/s] \n",
      "Downloading: 100%|██████████| 286/286 [00:00<00:00, 432B/s]\n",
      "Downloading: 100%|██████████| 174/174 [00:00<00:00, 454B/s]\n",
      "Downloading: 100%|██████████| 1.55k/1.55k [00:00<00:00, 4.01kB/s]\n",
      "Downloading: 100%|██████████| 1.14k/1.14k [00:00<00:00, 2.90kB/s]\n",
      "Downloading: 100%|██████████| 4.83M/4.83M [00:00<00:00, 9.30MB/s]\n",
      "Downloading: 100%|██████████| 279/279 [00:00<00:00, 702B/s]\n",
      "Downloading: 100%|██████████| 443/443 [00:00<00:00, 920B/s]\n",
      "Downloading: 100%|██████████| 167/167 [00:00<00:00, 386B/s]\n"
     ]
    }
   ],
   "source": [
    "model_dir = snapshot_download(\"Xorbits/bge-reranker-base\")"
   ]
  },
  {
   "cell_type": "code",
   "execution_count": 15,
   "id": "99f5c7c9-d746-4d29-a684-2c160abb0b89",
   "metadata": {
    "ExecutionIndicator": {
     "show": true
    },
    "execution": {
     "iopub.execute_input": "2024-06-24T11:19:59.937691Z",
     "iopub.status.busy": "2024-06-24T11:19:59.937184Z",
     "iopub.status.idle": "2024-06-24T11:20:00.731005Z",
     "shell.execute_reply": "2024-06-24T11:20:00.729989Z",
     "shell.execute_reply.started": "2024-06-24T11:19:59.937658Z"
    },
    "tags": []
   },
   "outputs": [
    {
     "name": "stdout",
     "output_type": "stream",
     "text": [
      "13620\n"
     ]
    }
   ],
   "source": [
    "from langchain.document_loaders import PyPDFLoader\n",
    "from langchain_community.document_loaders import TextLoader\n",
    "from langchain_community.vectorstores import FAISS\n",
    "from langchain_openai import OpenAIEmbeddings\n",
    "from langchain_text_splitters import RecursiveCharacterTextSplitter\n",
    "import tiktoken\n",
    "token_count = 0\n",
    "documents = PyPDFLoader(\"soybean_konw.pdf\").load()\n",
    "for i in range(len(documents)):\n",
    "    encoder = tiktoken.get_encoding(\"gpt2\") # 或其他适用的编码器\n",
    "    tokens = encoder.encode(documents[0].page_content)\n",
    "    token_count += len(tokens)\n",
    "print(token_count)\n",
    "text_splitter = RecursiveCharacterTextSplitter(chunk_size=1000, chunk_overlap=200)\n",
    "texts = text_splitter.split_documents(documents[:])\n",
    "for idx, text in enumerate(texts):\n",
    "    text.metadata[\"id\"] = idx"
   ]
  },
  {
   "cell_type": "code",
   "execution_count": 25,
   "id": "ee779787-9657-440c-a58a-75267829940c",
   "metadata": {
    "execution": {
     "iopub.execute_input": "2024-06-24T13:03:17.572838Z",
     "iopub.status.busy": "2024-06-24T13:03:17.572125Z",
     "iopub.status.idle": "2024-06-24T13:04:51.158125Z",
     "shell.execute_reply": "2024-06-24T13:04:51.156968Z",
     "shell.execute_reply.started": "2024-06-24T13:03:17.572799Z"
    },
    "tags": []
   },
   "outputs": [],
   "source": [
    "from langchain_chroma import Chroma\n",
    "from langchain.schema import Document\n",
    "from langchain_community.embeddings import HuggingFaceBgeEmbeddings\n",
    "\n",
    "top_k = 10\n",
    "\n",
    "model_name = '/mnt/workspace/.cache/modelscope/hub/maple77/zpoint_large_embedding_zh'\n",
    "model_kwargs = {'device': 'cpu'}\n",
    "encode_kwargs = {'normalize_embeddings': True}\n",
    "hf = HuggingFaceBgeEmbeddings(\n",
    "    model_name=model_name,\n",
    "    model_kwargs=model_kwargs,\n",
    "    encode_kwargs=encode_kwargs\n",
    ")\n",
    "vectorstore = Chroma.from_documents(documents=texts[:20], embedding=hf)\n",
    "retriever = vectorstore.as_retriever(\n",
    "    search_type=\"similarity\",\n",
    "    search_kwargs={\"k\": top_k}\n",
    ")"
   ]
  },
  {
   "cell_type": "code",
   "execution_count": 26,
   "id": "8923dfbe-1c1c-4358-9cf8-a9cbe3ec266b",
   "metadata": {
    "execution": {
     "iopub.execute_input": "2024-06-24T13:08:55.330733Z",
     "iopub.status.busy": "2024-06-24T13:08:55.330116Z",
     "iopub.status.idle": "2024-06-24T13:08:55.336777Z",
     "shell.execute_reply": "2024-06-24T13:08:55.335811Z",
     "shell.execute_reply.started": "2024-06-24T13:08:55.330696Z"
    },
    "tags": []
   },
   "outputs": [
    {
     "data": {
      "text/plain": [
       "<langchain_chroma.vectorstores.Chroma at 0x7fb0872b0e20>"
      ]
     },
     "execution_count": 26,
     "metadata": {},
     "output_type": "execute_result"
    }
   ],
   "source": [
    "vectorstore"
   ]
  },
  {
   "cell_type": "code",
   "execution_count": null,
   "id": "469ad187-9f4a-4ea2-b557-7acaad032a65",
   "metadata": {
    "tags": []
   },
   "outputs": [],
   "source": [
    "retriever.batch(['plant'])"
   ]
  },
  {
   "cell_type": "code",
   "execution_count": null,
   "id": "45cdedd2-7e02-492d-9f90-8d3153d8b0b3",
   "metadata": {},
   "outputs": [],
   "source": [
    "reranker_args = {\n",
    "    'model': '/mnt/workspace/.cache/modelscope/hub/Xorbits/bge-reranker-base',\n",
    "    'top_n': 5,\n",
    "    'device': 'cpu',\n",
    "}"
   ]
  },
  {
   "cell_type": "code",
   "execution_count": 18,
   "id": "fd061ed5-6a23-4034-86d6-427dd8722baf",
   "metadata": {
    "execution": {
     "iopub.execute_input": "2024-06-24T12:01:50.455808Z",
     "iopub.status.busy": "2024-06-24T12:01:50.455240Z",
     "iopub.status.idle": "2024-06-24T12:02:00.040844Z",
     "shell.execute_reply": "2024-06-24T12:02:00.039657Z",
     "shell.execute_reply.started": "2024-06-24T12:01:50.455780Z"
    },
    "tags": []
   },
   "outputs": [],
   "source": [
    "from transformers import AutoModelForSequenceClassification, AutoTokenizer\n",
    "tokenizer = AutoTokenizer.from_pretrained('/mnt/workspace/.cache/modelscope/hub/Xorbits/bge-reranker-base')\n",
    "rerank_model = AutoModelForSequenceClassification.from_pretrained('/mnt/workspace/.cache/modelscope/hub/Xorbits/bge-reranker-base')"
   ]
  },
  {
   "cell_type": "code",
   "execution_count": 27,
   "id": "b91a0b60-1e61-45b9-b2bd-cefd5de127a7",
   "metadata": {
    "ExecutionIndicator": {
     "show": true
    },
    "execution": {
     "iopub.execute_input": "2024-06-24T13:36:38.049232Z",
     "iopub.status.busy": "2024-06-24T13:36:38.048697Z",
     "iopub.status.idle": "2024-06-24T13:37:04.617494Z",
     "shell.execute_reply": "2024-06-24T13:37:04.616088Z",
     "shell.execute_reply.started": "2024-06-24T13:36:38.049197Z"
    },
    "tags": []
   },
   "outputs": [
    {
     "name": "stdout",
     "output_type": "stream",
     "text": [
      "tensor([-8.1544,  6.1821])\n"
     ]
    }
   ],
   "source": [
    "import torch\n",
    "rerank_model.eval()\n",
    "\n",
    "pairs = [['what is panda?', 'hi'], ['what is panda?', 'The giant panda (Ailuropoda melanoleuca), sometimes called a panda bear or simply panda, is a bear species endemic to China.']]\n",
    "with torch.no_grad():\n",
    "    inputs = tokenizer(pairs, padding=True, truncation=True, return_tensors='pt', max_length=512)\n",
    "    scores = rerank_model(**inputs, return_dict=True).logits.view(-1, ).float()\n",
    "    print(scores)"
   ]
  }
 ],
 "metadata": {
  "kernelspec": {
   "display_name": "Python 3 (ipykernel)",
   "language": "python",
   "name": "python3"
  },
  "language_info": {
   "codemirror_mode": {
    "name": "ipython",
    "version": 3
   },
   "file_extension": ".py",
   "mimetype": "text/x-python",
   "name": "python",
   "nbconvert_exporter": "python",
   "pygments_lexer": "ipython3",
   "version": "3.10.14"
  }
 },
 "nbformat": 4,
 "nbformat_minor": 5
}
