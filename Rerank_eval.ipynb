{
 "cells": [
  {
   "cell_type": "code",
   "execution_count": 6,
   "id": "0f183923-4393-42a7-aa2f-e9565e0ced1f",
   "metadata": {
    "ExecutionIndicator": {
     "show": false
    },
    "execution": {
     "iopub.execute_input": "2024-06-25T07:42:43.729091Z",
     "iopub.status.busy": "2024-06-25T07:42:43.728756Z",
     "iopub.status.idle": "2024-06-25T07:42:44.236804Z",
     "shell.execute_reply": "2024-06-25T07:42:44.236190Z",
     "shell.execute_reply.started": "2024-06-25T07:42:43.729072Z"
    },
    "tags": []
   },
   "outputs": [
    {
     "name": "stdout",
     "output_type": "stream",
     "text": [
      "13620\n"
     ]
    }
   ],
   "source": [
    "from langchain.document_loaders import PyPDFLoader\n",
    "from langchain_community.document_loaders import TextLoader\n",
    "from langchain_community.vectorstores import FAISS\n",
    "from langchain_openai import OpenAIEmbeddings\n",
    "from langchain_text_splitters import RecursiveCharacterTextSplitter\n",
    "import tiktoken\n",
    "token_count = 0\n",
    "# eb99860b-0909-4446-8ee6-85066f75bfc8\n",
    "documents = PyPDFLoader(\"soybean_konw.pdf\").load()\n",
    "for i in range(len(documents)):\n",
    "    encoder = tiktoken.get_encoding(\"gpt2\") # 或其他适用的编码器\n",
    "    tokens = encoder.encode(documents[0].page_content)\n",
    "    token_count += len(tokens)\n",
    "print(token_count)\n",
    "text_splitter = RecursiveCharacterTextSplitter(chunk_size=500, chunk_overlap=200)\n",
    "texts = text_splitter.split_documents(documents[:])\n",
    "for idx, text in enumerate(texts):\n",
    "    text.metadata[\"id\"] = idx"
   ]
  },
  {
   "cell_type": "code",
   "execution_count": 106,
   "id": "bf059d51-4414-4b91-8b8f-b2d0592309d7",
   "metadata": {
    "ExecutionIndicator": {
     "show": true
    },
    "execution": {
     "iopub.execute_input": "2024-06-25T09:34:53.264496Z",
     "iopub.status.busy": "2024-06-25T09:34:53.264118Z",
     "iopub.status.idle": "2024-06-25T09:35:02.918074Z",
     "shell.execute_reply": "2024-06-25T09:35:02.917307Z",
     "shell.execute_reply.started": "2024-06-25T09:34:53.264460Z"
    },
    "tags": []
   },
   "outputs": [],
   "source": [
    "from langchain_chroma import Chroma\n",
    "from langchain.schema import Document\n",
    "from langchain_community.embeddings import HuggingFaceBgeEmbeddings\n",
    "\n",
    "top_k = 20\n",
    "\n",
    "model_name = '/mnt/workspace/.cache/modelscope/hub/maple77/zpoint_large_embedding_zh'\n",
    "model_kwargs = {'device': 'cpu'}\n",
    "encode_kwargs = {'normalize_embeddings': True}\n",
    "hf = HuggingFaceBgeEmbeddings(\n",
    "    model_name=model_name,\n",
    "    model_kwargs=model_kwargs,\n",
    "    encode_kwargs=encode_kwargs\n",
    ")\n",
    "vectorstore = Chroma(persist_directory=\"soybean_konw\", embedding_function=hf)\n",
    "retriever = vectorstore.as_retriever(\n",
    "    search_type=\"similarity\",\n",
    "    search_kwargs={\"k\": top_k}\n",
    ")"
   ]
  },
  {
   "cell_type": "code",
   "execution_count": 98,
   "id": "591f9c58-6be9-4e9d-b0b6-15c8a2004b60",
   "metadata": {
    "ExecutionIndicator": {
     "show": true
    },
    "execution": {
     "iopub.execute_input": "2024-06-25T08:54:44.349063Z",
     "iopub.status.busy": "2024-06-25T08:54:44.348599Z",
     "iopub.status.idle": "2024-06-25T08:54:44.391914Z",
     "shell.execute_reply": "2024-06-25T08:54:44.391230Z",
     "shell.execute_reply.started": "2024-06-25T08:54:44.349027Z"
    },
    "tags": []
   },
   "outputs": [
    {
     "name": "stdout",
     "output_type": "stream",
     "text": [
      "dict_keys(['id', 'question', 'context'])\n"
     ]
    }
   ],
   "source": [
    "import pandas as pd\n",
    "\n",
    "df = pd.read_excel('../learn_rag/soybean_question_500.xlsx', sheet_name='Sheet1')\n",
    "\n",
    "# 打印DataFrame的内容\n",
    "column_lists = {col: df[col].tolist() for col in df.columns}\n",
    "print(column_lists.keys())"
   ]
  },
  {
   "cell_type": "code",
   "execution_count": 99,
   "id": "c2b298a3-c9b4-4565-b833-3e22e158bc4c",
   "metadata": {
    "execution": {
     "iopub.execute_input": "2024-06-25T08:54:47.026593Z",
     "iopub.status.busy": "2024-06-25T08:54:47.026023Z",
     "iopub.status.idle": "2024-06-25T08:54:54.300164Z",
     "shell.execute_reply": "2024-06-25T08:54:54.299100Z",
     "shell.execute_reply.started": "2024-06-25T08:54:47.026554Z"
    },
    "tags": []
   },
   "outputs": [],
   "source": [
    "from transformers import AutoModelForSequenceClassification, AutoTokenizer\n",
    "tokenizer = AutoTokenizer.from_pretrained('/mnt/workspace/.cache/modelscope/hub/Xorbits/bge-reranker-base')\n",
    "rerank_model = AutoModelForSequenceClassification.from_pretrained('/mnt/workspace/.cache/modelscope/hub/Xorbits/bge-reranker-base')"
   ]
  },
  {
   "cell_type": "code",
   "execution_count": 100,
   "id": "6d37ce5b-b5cb-46b3-b25d-9911a1259f27",
   "metadata": {
    "execution": {
     "iopub.execute_input": "2024-06-25T08:54:56.789770Z",
     "iopub.status.busy": "2024-06-25T08:54:56.789271Z",
     "iopub.status.idle": "2024-06-25T08:55:02.524570Z",
     "shell.execute_reply": "2024-06-25T08:55:02.523807Z",
     "shell.execute_reply.started": "2024-06-25T08:54:56.789735Z"
    },
    "tags": []
   },
   "outputs": [],
   "source": [
    "retriever_result = retriever.batch(column_lists['question'][:2])"
   ]
  },
  {
   "cell_type": "code",
   "execution_count": 101,
   "id": "1d601123-7e62-464c-b549-a48be9861ecd",
   "metadata": {
    "ExecutionIndicator": {
     "show": true
    },
    "execution": {
     "iopub.execute_input": "2024-06-25T08:55:04.303589Z",
     "iopub.status.busy": "2024-06-25T08:55:04.303185Z",
     "iopub.status.idle": "2024-06-25T08:55:58.905781Z",
     "shell.execute_reply": "2024-06-25T08:55:58.905027Z",
     "shell.execute_reply.started": "2024-06-25T08:55:04.303566Z"
    },
    "tags": []
   },
   "outputs": [],
   "source": [
    "import torch\n",
    "question_rerank_result = []\n",
    "for query_idx in range(len(column_lists['question'][:2])):\n",
    "    pairs = []\n",
    "    for idx in range(len(retriever_result[query_idx])):\n",
    "        pairs.append([column_lists['question'][:2][query_idx], retriever_result[query_idx][idx].page_content])\n",
    "\n",
    "    with torch.no_grad():\n",
    "        inputs = tokenizer(pairs, padding=True, truncation=True, return_tensors='pt', max_length=512)\n",
    "        scores = rerank_model(**inputs, return_dict=True).logits.view(-1, ).float()\n",
    "    combined = sorted(zip(scores, retriever_result[query_idx]), reverse=True)\n",
    "    scores_rerank_list, retri_rerank_list = zip(*combined)\n",
    "    # print(scores_rerank_list, retri_rerank_list)\n",
    "    question_rerank_result.append(retri_rerank_list)"
   ]
  },
  {
   "cell_type": "code",
   "execution_count": null,
   "id": "d119d148-3fc6-4d68-a2de-f37912675b59",
   "metadata": {
    "ExecutionIndicator": {
     "show": true
    },
    "tags": []
   },
   "outputs": [],
   "source": [
    "# retriever_result\n",
    "# question_rerank_result[0]"
   ]
  },
  {
   "cell_type": "code",
   "execution_count": 105,
   "id": "be626e82-42e2-4a4d-98dc-bec7a4660ab2",
   "metadata": {
    "ExecutionIndicator": {
     "show": true
    },
    "execution": {
     "iopub.execute_input": "2024-06-25T09:31:40.167198Z",
     "iopub.status.busy": "2024-06-25T09:31:40.166659Z",
     "iopub.status.idle": "2024-06-25T09:31:40.173180Z",
     "shell.execute_reply": "2024-06-25T09:31:40.172502Z",
     "shell.execute_reply.started": "2024-06-25T09:31:40.167159Z"
    },
    "tags": []
   },
   "outputs": [
    {
     "name": "stdout",
     "output_type": "stream",
     "text": [
      "[[0, 0, 66, 106, 5, 57, 94, 19, 19, 83, 34, 30, 14, 14, 78, 115, 97, 110, 91, 114], [105, 13, 13, 93, 115, 0, 0, 73, 4, 4, 97, 82, 65, 110, 109, 63, 101, 74, 75, 94]]\n",
      "[[115, 0, 0, 94, 57, 83, 78, 106, 34, 19, 19, 14, 14, 66, 30, 91, 97, 114, 110, 5], [115, 73, 65, 63, 4, 4, 82, 105, 94, 97, 74, 75, 110, 101, 0, 0, 93, 109, 13, 13]]\n"
     ]
    }
   ],
   "source": [
    "from retiever_eval_list import get_ht_score, get_mmr_score\n",
    "\n",
    "def get_retriever_res_list(document_list, top_k = 20):\n",
    "    id_tmp = []\n",
    "    for n in range(len(document_list)):\n",
    "        result = []\n",
    "        for doc in document_list[n][:top_k]:\n",
    "            result.append(doc.metadata['id'])\n",
    "        id_tmp.append(result)\n",
    "    return id_tmp\n",
    "\n",
    "print(get_retriever_res_list(question_rerank_result))\n",
    "print(get_retriever_res_list(retriever_result))"
   ]
  },
  {
   "cell_type": "code",
   "execution_count": 104,
   "id": "a616c561-84b0-4bd2-ae0d-14be7b526e94",
   "metadata": {
    "ExecutionIndicator": {
     "show": true
    },
    "execution": {
     "iopub.execute_input": "2024-06-25T08:57:46.742365Z",
     "iopub.status.busy": "2024-06-25T08:57:46.742001Z",
     "iopub.status.idle": "2024-06-25T08:57:46.748575Z",
     "shell.execute_reply": "2024-06-25T08:57:46.747813Z",
     "shell.execute_reply.started": "2024-06-25T08:57:46.742343Z"
    },
    "tags": []
   },
   "outputs": [
    {
     "name": "stdout",
     "output_type": "stream",
     "text": [
      "top_ 1\n",
      "ht: 0.0\n",
      "mmr_score: 0.0\n",
      "rerank\n",
      "ht: 0.5\n",
      "mmr_score: 0.5\n",
      "top_ 2\n",
      "ht: 0.5\n",
      "mmr_score: 0.25\n",
      "rerank\n",
      "ht: 0.5\n",
      "mmr_score: 0.5\n",
      "top_ 3\n",
      "ht: 0.5\n",
      "mmr_score: 0.25\n",
      "rerank\n",
      "ht: 0.5\n",
      "mmr_score: 0.5\n",
      "top_ 4\n",
      "ht: 0.5\n",
      "mmr_score: 0.25\n",
      "rerank\n",
      "ht: 0.5\n",
      "mmr_score: 0.5\n",
      "top_ 5\n",
      "ht: 0.5\n",
      "mmr_score: 0.25\n",
      "rerank\n",
      "ht: 0.5\n",
      "mmr_score: 0.5\n",
      "top_ 6\n",
      "ht: 0.5\n",
      "mmr_score: 0.25\n",
      "rerank\n",
      "ht: 0.5\n",
      "mmr_score: 0.5\n",
      "top_ 7\n",
      "ht: 0.5\n",
      "mmr_score: 0.25\n",
      "rerank\n",
      "ht: 0.5\n",
      "mmr_score: 0.5\n",
      "top_ 8\n",
      "ht: 0.5\n",
      "mmr_score: 0.25\n",
      "rerank\n",
      "ht: 0.5\n",
      "mmr_score: 0.5\n"
     ]
    }
   ],
   "source": [
    "from retiever_eval_list import get_ht_score, get_mmr_score\n",
    "retiever_evaldict = {}\n",
    "for i in range(8):\n",
    "    print('top_', i+1)\n",
    "    res_retriever_list = get_retriever_res_list(retriever_result, i+1)\n",
    "    res_rerank_list = get_retriever_res_list(question_rerank_result, i+1)\n",
    "    ht_score = get_ht_score(column_lists['id'][:2], res_retriever_list)\n",
    "    mmr_score = get_mmr_score(column_lists['id'][:2], res_retriever_list)\n",
    "    print('ht:', round(ht_score, 3))\n",
    "    print('mmr_score:', round(mmr_score, 3))\n",
    "    print('rerank')\n",
    "    ht_score = get_ht_score(column_lists['id'][:2], res_rerank_list)\n",
    "    mmr_score = get_mmr_score(column_lists['id'][:2], res_rerank_list)\n",
    "    print('ht:', round(ht_score, 3))\n",
    "    print('mmr_score:', round(mmr_score, 3))"
   ]
  }
 ],
 "metadata": {
  "kernelspec": {
   "display_name": "Python 3 (ipykernel)",
   "language": "python",
   "name": "python3"
  },
  "language_info": {
   "codemirror_mode": {
    "name": "ipython",
    "version": 3
   },
   "file_extension": ".py",
   "mimetype": "text/x-python",
   "name": "python",
   "nbconvert_exporter": "python",
   "pygments_lexer": "ipython3",
   "version": "3.10.14"
  }
 },
 "nbformat": 4,
 "nbformat_minor": 5
}
