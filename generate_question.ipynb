{
 "cells": [
  {
   "cell_type": "code",
   "execution_count": null,
   "id": "b9be4840-b77d-4090-aeea-038e1abddde1",
   "metadata": {
    "tags": []
   },
   "outputs": [],
   "source": [
    "!pip install langchain openai ragas arxiv pymupdf\n",
    "!pip install llama-index llama-index-llms-huggingface ipywidgets\n",
    "!pip install transformers -U\n",
    "!pip install sentence_transformers\n",
    "!pip install unstructured\n",
    "!pip install pdfminer\n",
    "!pip install pypdf PyPDFLoader\n",
    "!pip install rapidocr-onnxruntime\n",
    "!pip install langchain_chroma\n",
    "!pip install pdfplumber"
   ]
  },
  {
   "cell_type": "code",
   "execution_count": 8,
   "id": "93a723b2-ff09-4650-a7db-e605eb20389d",
   "metadata": {
    "ExecutionIndicator": {
     "show": true
    },
    "execution": {
     "iopub.execute_input": "2024-06-25T07:40:33.944551Z",
     "iopub.status.busy": "2024-06-25T07:40:33.943933Z",
     "iopub.status.idle": "2024-06-25T07:40:34.631417Z",
     "shell.execute_reply": "2024-06-25T07:40:34.630891Z",
     "shell.execute_reply.started": "2024-06-25T07:40:33.944517Z"
    },
    "tags": []
   },
   "outputs": [],
   "source": [
    "from langchain.document_loaders import PyPDFLoader\n",
    "from langchain_community.document_loaders import TextLoader\n",
    "from langchain_community.vectorstores import FAISS\n",
    "from langchain_openai import OpenAIEmbeddings\n",
    "from langchain_text_splitters import RecursiveCharacterTextSplitter\n",
    "\n",
    "documents = PyPDFLoader(\"soybean_konw.pdf\").load()\n",
    "text_splitter = RecursiveCharacterTextSplitter(chunk_size=500, chunk_overlap=200)\n",
    "texts = text_splitter.split_documents(documents[:])\n",
    "for idx, text in enumerate(texts):\n",
    "    text.metadata[\"id\"] = idx"
   ]
  },
  {
   "cell_type": "code",
   "execution_count": 9,
   "id": "893d222f-855f-4e44-898b-37a1a7c3b3ab",
   "metadata": {
    "ExecutionIndicator": {
     "show": true
    },
    "execution": {
     "iopub.execute_input": "2024-06-25T07:40:36.900427Z",
     "iopub.status.busy": "2024-06-25T07:40:36.900083Z",
     "iopub.status.idle": "2024-06-25T07:40:37.003317Z",
     "shell.execute_reply": "2024-06-25T07:40:37.002767Z",
     "shell.execute_reply.started": "2024-06-25T07:40:36.900408Z"
    },
    "tags": []
   },
   "outputs": [
    {
     "name": "stdout",
     "output_type": "stream",
     "text": [
      "input_variables=['context'] template='Context information is below.\\n---------------------\\n{context}\\n---------------------\\nGiven the context information and not prior knowledge.\\ngenerate only questions based on the below query.\\nYou are a university professor. Your task is to set only 1 question for the upcoming Chinese quiz.\\nQuestions throughout the test should be diverse.\\nQuestions must be written in Chinese. The expression must be concise and clear.\\nIt should not exceed 20 Chinese characters. Words such as \"这\", \"那\", \"根据\", \"依据\" and other punctuation marks\\nshould not be used. Abbreviations may be used for titles and professional terms.\\n'\n"
     ]
    }
   ],
   "source": [
    "from langchain import PromptTemplate\n",
    "qa_generate_prompt_tmpl = \"\"\"\\\n",
    "Context information is below.\n",
    "---------------------\n",
    "{context}\n",
    "---------------------\n",
    "Given the context information and not prior knowledge.\n",
    "generate only questions based on the below query.\n",
    "You are a university professor. Your task is to set only 1 question for the upcoming Chinese quiz.\n",
    "Questions throughout the test should be diverse.\n",
    "Questions must be written in Chinese. The expression must be concise and clear.\n",
    "It should not exceed 20 Chinese characters. Words such as \"这\", \"那\", \"根据\", \"依据\" and other punctuation marks\n",
    "should not be used. Abbreviations may be used for titles and professional terms.\n",
    "\"\"\"\n",
    "prompt = PromptTemplate(\n",
    "    template=qa_generate_prompt_tmpl, \n",
    "    input_variables=[\"context\"]\n",
    "  )\n",
    "\n",
    "print(prompt)\n",
    "from langchain.schema.runnable import RunnablePassthrough\n",
    "from langchain.schema.output_parser import StrOutputParser\n",
    "from langchain.chat_models import ChatOpenAI\n",
    "\n",
    "llm = ChatOpenAI(\n",
    "    temperature=0.6,\n",
    "    model=\"glm-4-0520\",\n",
    "    openai_api_key=\"661a7aa0aeb8ca129eb4647461123230.bl9w581QKpnMfBvs\",\n",
    "    openai_api_base=\"https://open.bigmodel.cn/api/paas/v4/\"\n",
    ")\n",
    "\n",
    "rag_chain = (\n",
    "    {\"context\": RunnablePassthrough()} \n",
    "    | prompt \n",
    "    | llm\n",
    "    | StrOutputParser() \n",
    ")"
   ]
  },
  {
   "cell_type": "code",
   "execution_count": 10,
   "id": "91fc4061-1b4d-4195-bb7a-8fb2cf4e550a",
   "metadata": {
    "ExecutionIndicator": {
     "show": true
    },
    "execution": {
     "iopub.execute_input": "2024-06-25T07:40:40.067998Z",
     "iopub.status.busy": "2024-06-25T07:40:40.067695Z",
     "iopub.status.idle": "2024-06-25T07:40:40.071109Z",
     "shell.execute_reply": "2024-06-25T07:40:40.070494Z",
     "shell.execute_reply.started": "2024-06-25T07:40:40.067980Z"
    },
    "tags": []
   },
   "outputs": [],
   "source": [
    "content = [texts[i].page_content for i in range(len(texts))]\n",
    "# content"
   ]
  },
  {
   "cell_type": "code",
   "execution_count": 11,
   "id": "9e8927b5-19c1-47d2-aa78-64b9fb07cd28",
   "metadata": {
    "ExecutionIndicator": {
     "show": true
    },
    "execution": {
     "iopub.execute_input": "2024-06-25T07:40:41.343105Z",
     "iopub.status.busy": "2024-06-25T07:40:41.342778Z",
     "iopub.status.idle": "2024-06-25T07:42:06.440712Z",
     "shell.execute_reply": "2024-06-25T07:42:06.440186Z",
     "shell.execute_reply.started": "2024-06-25T07:40:41.343088Z"
    },
    "tags": []
   },
   "outputs": [],
   "source": [
    "question_list = rag_chain.batch(content)\n",
    "# question_list"
   ]
  },
  {
   "cell_type": "code",
   "execution_count": 12,
   "id": "0506c891-6346-436e-bebb-aa2b4f998cbf",
   "metadata": {
    "ExecutionIndicator": {
     "show": true
    },
    "execution": {
     "iopub.execute_input": "2024-06-25T07:42:23.205346Z",
     "iopub.status.busy": "2024-06-25T07:42:23.205029Z",
     "iopub.status.idle": "2024-06-25T07:42:23.211071Z",
     "shell.execute_reply": "2024-06-25T07:42:23.210605Z",
     "shell.execute_reply.started": "2024-06-25T07:42:23.205327Z"
    },
    "tags": []
   },
   "outputs": [
    {
     "name": "stdout",
     "output_type": "stream",
     "text": [
      "      id                                     question  \\\n",
      "0      0                             请简述本文发表的时间是什么时候？   \n",
      "1      1  请简述《Frontiers in Plant Science》中文章的投稿与发表流程。   \n",
      "2      2                  请简述《大豆产量形成生理学》研究对精准育种的基石作用。   \n",
      "3      3                         请简述大豆产量形成生理对精准育种的意义。   \n",
      "4      4                            作物产量持续改进的主要动力是什么？   \n",
      "..   ...                                          ...   \n",
      "295  295                   请简述使用低成本3D重建技术分析大豆表型发育的优点。   \n",
      "296  296                           该研究的作者与BASF公司有何关系？   \n",
      "297  297                             请简述文章中提到的版权归属情况。   \n",
      "298  298                           CC BY许可下文章的版权归属是谁？   \n",
      "299  299               请简述CC BY许可协议对使用版权内容的哪些方面进行了规定？   \n",
      "\n",
      "                                               context  \n",
      "0    fpls-12-719706 November 9, 2021 Time: 12:48 # ...  \n",
      "1    Heart, Italy\\n*Correspondence:\\nJonathan T. Vo...  \n",
      "2    This article was submitted to\\nCrop and Produc...  \n",
      "3    Yield Formation Physiology –\\nA Foundation for...  \n",
      "4    Improvement\\nJonathan T. Vogel *, Weidong Liu,...  \n",
      "..                                                 ...  \n",
      "295  07060661.2020.1794541\\nZhu, R., Sun, K., Y an,...  \n",
      "296  (2015). The quest for tolerant varieties: the ...  \n",
      "297  Publisher’s Note: All claims expressed in this...  \n",
      "298  this article, or claim that may be made by its...  \n",
      "299  Attribution License (CC BY). The use, distribu...  \n",
      "\n",
      "[300 rows x 3 columns]\n"
     ]
    }
   ],
   "source": [
    "import pandas as pd\n",
    "\n",
    "# 示例字典\n",
    "data_dict = {\n",
    "    'id': range(len(texts)),\n",
    "    'question': question_list,\n",
    "    'context': content\n",
    "}\n",
    "\n",
    "# 将字典转换为Pandas DataFrame\n",
    "df = pd.DataFrame(data_dict)\n",
    "\n",
    "# 打印DataFrame\n",
    "print(df)"
   ]
  },
  {
   "cell_type": "code",
   "execution_count": 13,
   "id": "360f1179-efd5-4aeb-89ba-c1b43a585943",
   "metadata": {
    "ExecutionIndicator": {
     "show": true
    },
    "execution": {
     "iopub.execute_input": "2024-06-25T07:42:29.430333Z",
     "iopub.status.busy": "2024-06-25T07:42:29.429973Z",
     "iopub.status.idle": "2024-06-25T07:42:29.461991Z",
     "shell.execute_reply": "2024-06-25T07:42:29.461444Z",
     "shell.execute_reply.started": "2024-06-25T07:42:29.430310Z"
    },
    "tags": []
   },
   "outputs": [],
   "source": [
    "df.to_excel('soybean_question_500.xlsx', index=False)"
   ]
  }
 ],
 "metadata": {
  "kernelspec": {
   "display_name": "Python 3 (ipykernel)",
   "language": "python",
   "name": "python3"
  },
  "language_info": {
   "codemirror_mode": {
    "name": "ipython",
    "version": 3
   },
   "file_extension": ".py",
   "mimetype": "text/x-python",
   "name": "python",
   "nbconvert_exporter": "python",
   "pygments_lexer": "ipython3",
   "version": "3.10.14"
  }
 },
 "nbformat": 4,
 "nbformat_minor": 5
}
